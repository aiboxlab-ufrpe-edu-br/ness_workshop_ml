{
 "cells": [
  {
   "cell_type": "markdown",
   "metadata": {
    "colab_type": "text",
    "id": "6P6K3727U-fq"
   },
   "source": [
    "# Named-Entity Recognition (NER)\n",
    "<br>\n",
    "\n",
    "<font size=\"4\">**O que é?** É uma subtarefa da área de extração da informação.</font>\n",
    "\n",
    "<font size=\"4\">**Objetivo?** Localizar e classificar menções de entidades nomeadas, <u>em texto não estruturado</u>, em categorias predefinidas (nomes de pessoas e organizações, locais, datas, códigos, valores monetários, etc)</font>"
   ]
  },
  {
   "cell_type": "markdown",
   "metadata": {
    "colab_type": "text",
    "id": "ZQJPQPVBU-fs"
   },
   "source": [
    "## Exemplo\n",
    "\n",
    "<img src=\"https://github.com/ufrpe-bcc-ia/material-aulas/raw/master/imagens/ner_example1.png\" width=\"600px\">"
   ]
  },
  {
   "cell_type": "markdown",
   "metadata": {
    "colab_type": "text",
    "id": "q2moLdFDU-fs"
   },
   "source": [
    "## Como funciona?\n",
    "\n",
    "<br>\n",
    "\n",
    "<img src=\"https://github.com/ufrpe-bcc-ia/material-aulas/raw/master/imagens/ner_pipeline.jpg\" width=\"600px\">"
   ]
  },
  {
   "cell_type": "markdown",
   "metadata": {
    "colab_type": "text",
    "id": "U71oM0HGU-ft"
   },
   "source": [
    "## Aplicações reais\n",
    "\n",
    "### 1.Classificação de conteúdo para provedores de notícias\n",
    "O NER pode escanear automaticamente artigos inteiros e revelar quais são as principais pessoas, organizações e lugares discutidos neles.\n",
    "\n",
    "<img src=\"https://github.com/ufrpe-bcc-ia/material-aulas/raw/master/imagens/ner_example2.png\" width=\"600px\">\n",
    "\n",
    "<br><br><br>\n",
    "\n",
    "### 2.Algoritmos de busca eficientes\n",
    "O NER pode buscar por tags específicas e retornar um conjunto de itens (artigos) relacionados de forma eficiente.\n",
    "\n",
    "<img src=\"https://github.com/ufrpe-bcc-ia/material-aulas/raw/master/imagens/ner_example3.jpeg\" width=\"600px\">\n",
    "\n",
    "<br><br><br>\n",
    "\n",
    "### 3.Suporte ao cliente\n",
    "O NER pode categorizar a reclamação e atribuí-la ao departamento relevante dentro da organização.\n",
    "\n",
    "<img src=\"https://github.com/ufrpe-bcc-ia/material-aulas/raw/master/imagens/ner_example4.png\" width=\"600px\">\n"
   ]
  },
  {
   "cell_type": "markdown",
   "metadata": {
    "colab_type": "text",
    "id": "grhI_bNvU-fu"
   },
   "source": [
    "\n",
    "## Biblioteca que iremos usar\n",
    "\n",
    "<img src=\"https://github.com/ufrpe-bcc-ia/material-aulas/raw/master/imagens/ner_lib.jpeg\" width=\"400px\">"
   ]
  },
  {
   "cell_type": "code",
   "execution_count": null,
   "metadata": {
    "colab": {},
    "colab_type": "code",
    "id": "BHEHUSJvU-fv"
   },
   "outputs": [],
   "source": [
    "'''INSTALANDO A BIBLIOTECA'''\n",
    "\n",
    "!pip install spacy"
   ]
  },
  {
   "cell_type": "code",
   "execution_count": null,
   "metadata": {
    "colab": {},
    "colab_type": "code",
    "id": "Y0A1Gly8U-fy",
    "scrolled": true
   },
   "outputs": [],
   "source": [
    "'''BAIXANDO O MODELO DA LÍNGUA PORTUGUESA'''\n",
    "\n",
    "!python -m spacy download pt"
   ]
  },
  {
   "cell_type": "code",
   "execution_count": null,
   "metadata": {
    "colab": {},
    "colab_type": "code",
    "id": "YJ6y-rkNU-f0",
    "outputId": "e3119f96-8eab-4b2d-8bc1-98ad554eba42"
   },
   "outputs": [],
   "source": [
    "'''CLASSIFICANDO CONTEÚDO ATRAVÉS DO MODELO'''\n",
    "\n",
    "import spacy\n",
    "from spacy import displacy\n",
    "\n",
    "text = 'Donald Trump, portador do cpf 064.468.404-62, chegou aos EUA no dia 01/06/2019. Donald Trump visitou Barack Obama e George Bush. Além disso, ele esteve em diversos estados do país pilotando uma ferrari.'\n",
    "\n",
    "my_model = spacy.load('pt')\n",
    "document = my_model(text)\n",
    "\n",
    "print('Original Sentence: %s\\n' % (text))\n",
    "\n",
    "print(document)\n",
    "    \n",
    "displacy.render(document, jupyter=True, style='ent')"
   ]
  },
  {
   "cell_type": "code",
   "execution_count": null,
   "metadata": {
    "colab": {},
    "colab_type": "code",
    "id": "AQQZVpnVU-f5"
   },
   "outputs": [],
   "source": [
    "import random\n",
    "from spacy.util import minibatch, compounding\n",
    "\n",
    "def train_model(data, labels, iterations=10, model='pt'):\n",
    "    \"\"\"Set up the pipeline and entity recognizer, and train the new entity.\"\"\"\n",
    "    random.seed(0)\n",
    "    if model is not None:\n",
    "        nlp = spacy.load(model)  # load existing spaCy model\n",
    "    else:\n",
    "        nlp = spacy.blank(model)  # create blank Language class\n",
    "        \n",
    "    if \"ner\" not in nlp.pipe_names:\n",
    "        ner = nlp.create_pipe(\"ner\")\n",
    "        nlp.add_pipe(ner)\n",
    "        \n",
    "    else:\n",
    "        ner = nlp.get_pipe(\"ner\")\n",
    "    \n",
    "    for label in labels:\n",
    "        ner.add_label(label)\n",
    "    \n",
    "    optimizer = nlp.begin_training()\n",
    "    \n",
    "    move_names = list(ner.move_names)\n",
    "    \n",
    "    other_pipes = [pipe for pipe in nlp.pipe_names if pipe != \"ner\"]\n",
    "    with nlp.disable_pipes(*other_pipes):  # only train NER\n",
    "        sizes = compounding(1.0, 4.0, 1.001)\n",
    "        \n",
    "        for itn in range(iterations):\n",
    "            random.shuffle(TRAIN_DATA)\n",
    "            batches = minibatch(TRAIN_DATA, size=sizes)\n",
    "            losses = {}\n",
    "            for batch in batches:\n",
    "                texts, annotations = zip(*batch)\n",
    "                nlp.update(texts, annotations, sgd=optimizer, drop=0.35, losses=losses)\n",
    "    return nlp"
   ]
  },
  {
   "cell_type": "code",
   "execution_count": null,
   "metadata": {
    "colab": {},
    "colab_type": "code",
    "id": "lQQHuzDbU-f8",
    "outputId": "c7f98fb9-f633-4560-e501-475ad6132162"
   },
   "outputs": [],
   "source": [
    "'''MELHORANDO O MODELO'''\n",
    "\n",
    "NEW_LABELS = ['CPF', 'DATE']\n",
    "\n",
    "TRAIN_DATA = [('Em 15/07/1988 nasceu essa linda criança', {'entities': [(3, 13, 'DATE')]}), \n",
    "              ('Data de prisão: 10/01/2018', {'entities': [(16, 26, 'DATE')]}),\n",
    "              ('No dia 01/02/2016 foi decretada a setença', {'entities': [(7, 17, 'DATE')]}),\n",
    "              ('A data da festa foi 07/05/2019', {'entities': [(20, 30, 'DATE')]}),\n",
    "              ('João, portador do cpf 123.456.789-65, foi encontrado', {'entities': [(0, 4, 'PER'), (18, 32, 'CPF')]}),\n",
    "              ('O cpf 064.468.404-62 pertence a Maria', {'entities': [(6, 20, 'CPF'), (32, 37, 'PER')]})\n",
    "             ]\n",
    "\n",
    "my_model = train_model(TRAIN_DATA, NEW_LABELS)\n",
    "\n",
    "document = my_model(text)\n",
    "\n",
    "print('Original Sentence: %s\\n' % (text))\n",
    "    \n",
    "displacy.render(document, jupyter=True, style='ent')"
   ]
  },
  {
   "cell_type": "code",
   "execution_count": null,
   "metadata": {
    "colab": {},
    "colab_type": "code",
    "id": "YgzUrWw8U-f_"
   },
   "outputs": [],
   "source": []
  }
 ],
 "metadata": {
  "colab": {
   "collapsed_sections": [],
   "name": "04_NER.ipynb",
   "provenance": [],
   "version": "0.3.2"
  },
  "kernelspec": {
   "display_name": "Python 3",
   "language": "python",
   "name": "python3"
  },
  "language_info": {
   "codemirror_mode": {
    "name": "ipython",
    "version": 3
   },
   "file_extension": ".py",
   "mimetype": "text/x-python",
   "name": "python",
   "nbconvert_exporter": "python",
   "pygments_lexer": "ipython3",
   "version": "3.7.1"
  }
 },
 "nbformat": 4,
 "nbformat_minor": 2
}
