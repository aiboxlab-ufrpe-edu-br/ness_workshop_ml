{
 "cells": [
  {
   "cell_type": "markdown",
   "metadata": {
    "colab_type": "text",
    "id": "pSZAfflZa0uN"
   },
   "source": [
    "# Classificação de texto\n",
    "\n",
    "Neste exemplo, utilizaremos um dataset chamado 20newsgroups. \n",
    "\n",
    "O conjunto de dados é uma coleção de aproximadamente 20.000 documentos de grupos de notícias, particionados (quase) uniformemente em 20 grupos/categorias de notícias diferentes. Mais informações sobre esta base podem ser obtidas no repositório [UCI](http://archive.ics.uci.edu/ml/datasets/Twenty+Newsgroups)\n",
    "\n",
    "As categorias existentes são:\n",
    "\n",
    "* 'alt.atheism',\n",
    "* 'comp.graphics',\n",
    "* 'comp.os.ms-windows.misc',\n",
    "* 'comp.sys.ibm.pc.hardware',\n",
    "* 'comp.sys.mac.hardware',\n",
    "* 'comp.windows.x',\n",
    "* 'misc.forsale',\n",
    "* 'rec.autos',\n",
    "* 'rec.motorcycles',\n",
    "* 'rec.sport.baseball',\n",
    "* 'rec.sport.hockey',\n",
    "* 'sci.crypt',\n",
    "* 'sci.electronics',\n",
    "* 'sci.med',\n",
    "* 'sci.space',\n",
    "* 'soc.religion.christian',\n",
    "* 'talk.politics.guns',\n",
    "* 'talk.politics.mideast',\n",
    "* 'talk.politics.misc',\n",
    "* 'talk.religion.misc'\n",
    "\n",
    "Neste exemplo, vamos considerar apenas duas categorias: '**alt.atheism**' e '**comp.graphics**'. O scitkit contém uma função que auxilia o download desta base:"
   ]
  },
  {
   "cell_type": "code",
   "execution_count": null,
   "metadata": {
    "colab": {},
    "colab_type": "code",
    "id": "e6zpZZoFa_t7"
   },
   "outputs": [],
   "source": [
    "from sklearn.datasets import fetch_20newsgroups\n",
    "categories = [\n",
    "    'alt.atheism',\n",
    "    'comp.graphics',\n",
    "]\n",
    "\n",
    "twenty = fetch_20newsgroups(subset='train', categories=categories, remove=('headers', 'footers', 'quotes'), shuffle=True)"
   ]
  },
  {
   "cell_type": "markdown",
   "metadata": {
    "colab_type": "text",
    "id": "B-Q143hEZ5MX"
   },
   "source": [
    "# **Visualizar descrição**"
   ]
  },
  {
   "cell_type": "code",
   "execution_count": null,
   "metadata": {
    "colab": {
     "base_uri": "https://localhost:8080/",
     "height": 3995
    },
    "colab_type": "code",
    "executionInfo": {
     "elapsed": 3091,
     "status": "ok",
     "timestamp": 1558627896690,
     "user": {
      "displayName": "Rafael Ferreira",
      "photoUrl": "",
      "userId": "15890286398156638247"
     },
     "user_tz": 0
    },
    "id": "mNuZnHoTZNPs",
    "outputId": "4f4b5a00-1534-41c5-90e3-46ea1dcd7c31"
   },
   "outputs": [],
   "source": [
    "print(twenty.DESCR)"
   ]
  },
  {
   "cell_type": "code",
   "execution_count": null,
   "metadata": {
    "colab": {
     "base_uri": "https://localhost:8080/",
     "height": 34
    },
    "colab_type": "code",
    "executionInfo": {
     "elapsed": 3078,
     "status": "ok",
     "timestamp": 1558627896691,
     "user": {
      "displayName": "Rafael Ferreira",
      "photoUrl": "",
      "userId": "15890286398156638247"
     },
     "user_tz": 0
    },
    "id": "d4YHIyGwZ_pW",
    "outputId": "e69a3b8f-3570-4ea9-a321-62f7a82e533c"
   },
   "outputs": [],
   "source": [
    "print(twenty.target_names)"
   ]
  },
  {
   "cell_type": "code",
   "execution_count": null,
   "metadata": {
    "colab": {
     "base_uri": "https://localhost:8080/",
     "height": 54
    },
    "colab_type": "code",
    "executionInfo": {
     "elapsed": 3064,
     "status": "ok",
     "timestamp": 1558627896692,
     "user": {
      "displayName": "Rafael Ferreira",
      "photoUrl": "",
      "userId": "15890286398156638247"
     },
     "user_tz": 0
    },
    "id": "r_inoGQ9ZqPt",
    "outputId": "f69319c7-41d2-48fc-d77d-48cdf343fb75"
   },
   "outputs": [],
   "source": [
    "print(twenty.data[0:3])"
   ]
  },
  {
   "cell_type": "code",
   "execution_count": null,
   "metadata": {
    "colab": {
     "base_uri": "https://localhost:8080/",
     "height": 34
    },
    "colab_type": "code",
    "executionInfo": {
     "elapsed": 3047,
     "status": "ok",
     "timestamp": 1558627896693,
     "user": {
      "displayName": "Rafael Ferreira",
      "photoUrl": "",
      "userId": "15890286398156638247"
     },
     "user_tz": 0
    },
    "id": "lQkPsjnKblN6",
    "outputId": "303d31f1-6451-4122-9ea1-264e308ccae4"
   },
   "outputs": [],
   "source": [
    "print(twenty.target[0:3])"
   ]
  },
  {
   "cell_type": "markdown",
   "metadata": {
    "colab_type": "text",
    "id": "Hpe2AG4ecL5i"
   },
   "source": [
    "# **Converter para pandas**"
   ]
  },
  {
   "cell_type": "code",
   "execution_count": null,
   "metadata": {
    "colab": {
     "base_uri": "https://localhost:8080/",
     "height": 204
    },
    "colab_type": "code",
    "executionInfo": {
     "elapsed": 3040,
     "status": "ok",
     "timestamp": 1558627896695,
     "user": {
      "displayName": "Rafael Ferreira",
      "photoUrl": "",
      "userId": "15890286398156638247"
     },
     "user_tz": 0
    },
    "id": "spCZFMC6cKR_",
    "outputId": "9c9d22f4-a218-4852-b268-2d8d5f09c1a1"
   },
   "outputs": [],
   "source": [
    "import pandas as pd\n",
    "import numpy as np\n",
    "\n",
    "df = pd.DataFrame([twenty.data, twenty.target.tolist()]).T\n",
    "df.columns = ['text', 'target']\n",
    "targets = pd.DataFrame( twenty.target_names)\n",
    "targets.columns=['title']\n",
    "data = pd.merge(df, targets, left_on='target', right_index=True)\n",
    "\n",
    "data.head()"
   ]
  },
  {
   "cell_type": "code",
   "execution_count": null,
   "metadata": {
    "colab": {
     "base_uri": "https://localhost:8080/",
     "height": 173
    },
    "colab_type": "code",
    "executionInfo": {
     "elapsed": 3035,
     "status": "ok",
     "timestamp": 1558627896700,
     "user": {
      "displayName": "Rafael Ferreira",
      "photoUrl": "",
      "userId": "15890286398156638247"
     },
     "user_tz": 0
    },
    "id": "gx7aUwkqdY5T",
    "outputId": "bccdf062-2026-4e5b-ba0f-253b79706d7e"
   },
   "outputs": [],
   "source": [
    "data.describe()"
   ]
  },
  {
   "cell_type": "markdown",
   "metadata": {
    "colab_type": "text",
    "id": "i5uaMJj7EDzQ"
   },
   "source": [
    "## Pré-processamento e Análise exploratória"
   ]
  },
  {
   "cell_type": "markdown",
   "metadata": {
    "colab_type": "text",
    "id": "ciKfFrgRbXKj"
   },
   "source": [
    "## Número de documentos por classe:"
   ]
  },
  {
   "cell_type": "code",
   "execution_count": null,
   "metadata": {
    "colab": {
     "base_uri": "https://localhost:8080/",
     "height": 269
    },
    "colab_type": "code",
    "executionInfo": {
     "elapsed": 3300,
     "status": "ok",
     "timestamp": 1558627896976,
     "user": {
      "displayName": "Rafael Ferreira",
      "photoUrl": "",
      "userId": "15890286398156638247"
     },
     "user_tz": 0
    },
    "id": "M4TXsricgCdW",
    "outputId": "66e3fb5b-1765-45eb-af72-c5aabc5a9941"
   },
   "outputs": [],
   "source": [
    "import matplotlib.pyplot as plt\n",
    "import seaborn as sns\n",
    "\n",
    "\n",
    "fig = plt.figure(figsize=(8,4))\n",
    "sns.barplot(x = data['target'].unique(), y=data['target'].value_counts())\n",
    "plt.show()"
   ]
  },
  {
   "cell_type": "markdown",
   "metadata": {
    "colab_type": "text",
    "id": "iAuECXs1eS3v"
   },
   "source": [
    "## Usando o spacy para pré-processamento:"
   ]
  },
  {
   "cell_type": "code",
   "execution_count": null,
   "metadata": {
    "colab": {},
    "colab_type": "code",
    "id": "d8HcKzL2eCl5"
   },
   "outputs": [],
   "source": [
    "import spacy\n",
    "nlp = spacy.load('en')"
   ]
  },
  {
   "cell_type": "code",
   "execution_count": null,
   "metadata": {
    "colab": {
     "base_uri": "https://localhost:8080/",
     "height": 1071
    },
    "colab_type": "code",
    "executionInfo": {
     "elapsed": 86448,
     "status": "ok",
     "timestamp": 1558627980145,
     "user": {
      "displayName": "Rafael Ferreira",
      "photoUrl": "",
      "userId": "15890286398156638247"
     },
     "user_tz": 0
    },
    "id": "ggnqAiz2AGEe",
    "outputId": "a05ce07b-786d-4893-b51e-c39d678d5c97"
   },
   "outputs": [],
   "source": [
    "def limpeza(documentos):\n",
    "  textos = []\n",
    "  for doc in documentos:\n",
    "    doc = doc.replace(\"\\n\", \" \").replace(\"\\r\", \" \")\n",
    "    doc_processado = nlp(doc)\n",
    "    tokens = [token.lemma_.lower() for token in doc_processado if (not token.is_stop) \n",
    "              and (not token.is_punct) and (token.lemma_ != '-PRON-') and \n",
    "              (len(token.lemma_)>3) and (token.lemma_ != '\\n') and (token.lemma_ != ' ')]\n",
    "    tokens = ' '.join(tokens)\n",
    "    textos.append(tokens)\n",
    "  return pd.Series(textos)\n",
    "\n",
    "documentos = [doc for doc in data['text']]\n",
    "\n",
    "documentos_processados = limpeza(documentos)\n",
    "\n",
    "documentos_processados"
   ]
  },
  {
   "cell_type": "markdown",
   "metadata": {
    "colab_type": "text",
    "id": "SYmMvPVrb6Ry"
   },
   "source": [
    "## Contagem de número de palavras do banco de dados"
   ]
  },
  {
   "cell_type": "code",
   "execution_count": null,
   "metadata": {
    "colab": {
     "base_uri": "https://localhost:8080/",
     "height": 390
    },
    "colab_type": "code",
    "executionInfo": {
     "elapsed": 86439,
     "status": "ok",
     "timestamp": 1558627980147,
     "user": {
      "displayName": "Rafael Ferreira",
      "photoUrl": "",
      "userId": "15890286398156638247"
     },
     "user_tz": 0
    },
    "id": "XznaAk49AhMJ",
    "outputId": "b3df5188-f60d-4099-feab-dc07138ed741"
   },
   "outputs": [],
   "source": [
    "from collections import Counter\n",
    "\n",
    "todos_documentos = ' '.join(documentos_processados).split()\n",
    "\n",
    "\n",
    "contagem_de_palavras = Counter(todos_documentos)\n",
    "\n",
    "palavras_comuns = [word[0] for word in contagem_de_palavras.most_common(20)]\n",
    "palavras_comuns_contagem = [word[1] for word in contagem_de_palavras.most_common(20)]\n",
    "\n",
    "fig = plt.figure(figsize=(18,6))\n",
    "sns.barplot(x=palavras_comuns, y=palavras_comuns_contagem)\n",
    "plt.title('Top-20 palavras mais comuns')\n",
    "plt.show()"
   ]
  },
  {
   "cell_type": "markdown",
   "metadata": {
    "colab_type": "text",
    "id": "pzpJAKv5LmTq"
   },
   "source": [
    "## Atualizar o pandas"
   ]
  },
  {
   "cell_type": "code",
   "execution_count": null,
   "metadata": {
    "colab": {
     "base_uri": "https://localhost:8080/",
     "height": 1969
    },
    "colab_type": "code",
    "executionInfo": {
     "elapsed": 842,
     "status": "ok",
     "timestamp": 1558628018465,
     "user": {
      "displayName": "Rafael Ferreira",
      "photoUrl": "",
      "userId": "15890286398156638247"
     },
     "user_tz": 0
    },
    "id": "TCVKM-ogLqDe",
    "outputId": "63bf6e22-8e05-4974-dd43-0b4c4fb2cf2f"
   },
   "outputs": [],
   "source": [
    "data['text'] = documentos_processados.values\n",
    "data"
   ]
  },
  {
   "cell_type": "markdown",
   "metadata": {
    "colab_type": "text",
    "id": "lVGqmnzzLNl6"
   },
   "source": [
    "## Separar treinamento e teste"
   ]
  },
  {
   "cell_type": "code",
   "execution_count": null,
   "metadata": {
    "colab": {
     "base_uri": "https://localhost:8080/",
     "height": 51
    },
    "colab_type": "code",
    "executionInfo": {
     "elapsed": 683,
     "status": "ok",
     "timestamp": 1558628031080,
     "user": {
      "displayName": "Rafael Ferreira",
      "photoUrl": "",
      "userId": "15890286398156638247"
     },
     "user_tz": 0
    },
    "id": "IUf-I6itLRBb",
    "outputId": "0be8b834-012f-4d69-b11a-49730ad00986"
   },
   "outputs": [],
   "source": [
    "from sklearn.model_selection import train_test_split\n",
    "\n",
    "df_train, df_test = train_test_split(data, test_size=0.3)\n",
    "print('Número de exemplos de treinamento:', len(df_train))\n",
    "print('Número de exemplos de teste:', len(df_test))"
   ]
  },
  {
   "cell_type": "markdown",
   "metadata": {
    "colab_type": "text",
    "id": "pjYf-gLLCMKc"
   },
   "source": [
    "## Representação vetorial do texto\n",
    "\n",
    "Neste exemplo, utilizaremos o algoritmo Naive Bayes para classificar documentos de texto em categorias. Para isso, precisamos antes converter o texto para uma representação vetorial, ou seja, cada documento/exemplo precisa ser representado por um vetor de dimensões pré-definidas. Utilizaremos três técnicas básicas: BOW (*Bag of Words*), TF (*Term Frequency*) e TF-IDF (*Term Frequency - Inverse Document Frequency*)"
   ]
  },
  {
   "cell_type": "markdown",
   "metadata": {
    "colab_type": "text",
    "id": "yGomQqnCcQSt"
   },
   "source": [
    "### BOW\n",
    "\n",
    "Consiste basicamente em contar quantas vezes cada palavra aparece no documento. Ou seja, sua aplicação a um conjunto de *n* documentos, produz uma matriz *n x d*, onde *d* corresponde ao tamanho do vocabulário considerado. No Scikit, esta representação é implementada pelo [CountVectorizer](https://scikit-learn.org/stable/modules/generated/sklearn.feature_extraction.text.CountVectorizer.html#sklearn.feature_extraction.text.CountVectorizer):"
   ]
  },
  {
   "cell_type": "code",
   "execution_count": null,
   "metadata": {
    "colab": {
     "base_uri": "https://localhost:8080/",
     "height": 34
    },
    "colab_type": "code",
    "executionInfo": {
     "elapsed": 696,
     "status": "ok",
     "timestamp": 1558628034784,
     "user": {
      "displayName": "Rafael Ferreira",
      "photoUrl": "",
      "userId": "15890286398156638247"
     },
     "user_tz": 0
    },
    "id": "JXXqhHupcUEk",
    "outputId": "b2ae7fcb-eb30-4ae1-d071-9d88d10ecefe"
   },
   "outputs": [],
   "source": [
    "from sklearn.feature_extraction.text import CountVectorizer\n",
    "\n",
    "vectorizer = CountVectorizer()\n",
    "bow_model  = vectorizer.fit(df_train['text'])\n",
    "\n",
    "X_bow_train = bow_model.transform(df_train['text'])\n",
    "X_bow_test  = bow_model.transform(df_test['text'])\n",
    "\n",
    "print(X_bow_train.shape,X_bow_test.shape)"
   ]
  },
  {
   "cell_type": "code",
   "execution_count": null,
   "metadata": {
    "colab": {
     "base_uri": "https://localhost:8080/",
     "height": 187
    },
    "colab_type": "code",
    "executionInfo": {
     "elapsed": 675,
     "status": "ok",
     "timestamp": 1558628037177,
     "user": {
      "displayName": "Rafael Ferreira",
      "photoUrl": "",
      "userId": "15890286398156638247"
     },
     "user_tz": 0
    },
    "id": "LYs4UtXbcqfp",
    "outputId": "d44c90af-b6d1-4e87-907c-e3a7ede16a0a"
   },
   "outputs": [],
   "source": [
    "# matriz está armazenada em formato sparse\n",
    "print(X_bow_train[0,:])"
   ]
  },
  {
   "cell_type": "markdown",
   "metadata": {
    "colab_type": "text",
    "id": "lWXyngFmNH6N"
   },
   "source": [
    "### *Term Frequency* (TF)\n",
    "A contagem de ocorrências (i.e., BOW) é um bom começo, mas há um problema: documentos mais longos terão valores de contagem média mais altos do que documentos mais curtos, embora possam falar sobre os mesmos tópicos.\n",
    "\n",
    "Para evitar essas possíveis discrepâncias, basta dividir o número de ocorrências de cada palavra em um documento pelo número total de palavras no documento:"
   ]
  },
  {
   "cell_type": "code",
   "execution_count": null,
   "metadata": {
    "colab": {
     "base_uri": "https://localhost:8080/",
     "height": 187
    },
    "colab_type": "code",
    "executionInfo": {
     "elapsed": 959,
     "status": "ok",
     "timestamp": 1558628049817,
     "user": {
      "displayName": "Rafael Ferreira",
      "photoUrl": "",
      "userId": "15890286398156638247"
     },
     "user_tz": 0
    },
    "id": "aZgBVwzhD4Oq",
    "outputId": "a76f8669-8b64-4a19-ffb3-15d21ec74527"
   },
   "outputs": [],
   "source": [
    "from sklearn.feature_extraction.text import TfidfVectorizer\n",
    "\n",
    "vectorizer = TfidfVectorizer(use_idf=False)\n",
    "tf_model = vectorizer.fit(df_train['text'])\n",
    "\n",
    "X_tf_train = tf_model.transform(df_train['text'])\n",
    "X_tf_test  = tf_model.transform(df_test['text'])\n",
    "\n",
    "print(X_tf_train[0,:])"
   ]
  },
  {
   "cell_type": "markdown",
   "metadata": {
    "colab_type": "text",
    "id": "trRUpz83NWMw"
   },
   "source": [
    "### TF-IDF\n",
    "Usando o scikit, basta ativar o flag `use_idf=True`:"
   ]
  },
  {
   "cell_type": "code",
   "execution_count": null,
   "metadata": {
    "colab": {
     "base_uri": "https://localhost:8080/",
     "height": 187
    },
    "colab_type": "code",
    "executionInfo": {
     "elapsed": 698,
     "status": "ok",
     "timestamp": 1558628057630,
     "user": {
      "displayName": "Rafael Ferreira",
      "photoUrl": "",
      "userId": "15890286398156638247"
     },
     "user_tz": 0
    },
    "id": "kYlkv33hLBfw",
    "outputId": "c290da62-c71e-4816-964d-4b46c5ddb172"
   },
   "outputs": [],
   "source": [
    "from sklearn.feature_extraction.text import TfidfVectorizer\n",
    "\n",
    "vectorizer = TfidfVectorizer(use_idf=True)\n",
    "tfidf_model = vectorizer.fit(df_train['text'])\n",
    "\n",
    "X_tfidf_train = tfidf_model.transform(df_train['text'])\n",
    "X_tfidf_test  = tfidf_model.transform(df_test['text'])\n",
    "\n",
    "print(X_tfidf_train[0,:])\n",
    "\n",
    "#tfidf_transformer = TfidfTransformer(use_idf=True)\n",
    "#X_train_TFIDF = tfidf_transformer.fit_transform(X_train_TF)\n",
    "#X_train_TFIDF.shape"
   ]
  },
  {
   "cell_type": "markdown",
   "metadata": {
    "colab_type": "text",
    "id": "hZ_J9MvTNuVE"
   },
   "source": [
    "# **Classificação**\n",
    "\n",
    "Como vimos no notebook de aprendizagem de máquina."
   ]
  },
  {
   "cell_type": "code",
   "execution_count": null,
   "metadata": {
    "colab": {
     "base_uri": "https://localhost:8080/",
     "height": 34
    },
    "colab_type": "code",
    "executionInfo": {
     "elapsed": 772,
     "status": "ok",
     "timestamp": 1558628061107,
     "user": {
      "displayName": "Rafael Ferreira",
      "photoUrl": "",
      "userId": "15890286398156638247"
     },
     "user_tz": 0
    },
    "id": "mPSvSDTuNw25",
    "outputId": "ac45d6c5-d17c-4610-8d0d-f35bd76e0e22"
   },
   "outputs": [],
   "source": [
    "from sklearn.tree import DecisionTreeClassifier\n",
    "from sklearn.metrics import accuracy_score\n",
    "\n",
    "model = DecisionTreeClassifier()\n",
    "model.fit(X_tfidf_train, df_train['title'])\n",
    "\n",
    "predicoes = model.predict(X_tfidf_test)\n",
    "acc = accuracy_score(df_test['title'], predicoes)\n",
    "#print(model)\n",
    "print('Taxa de acerto: ', accuracy_score(df_test['title'], predicoes))"
   ]
  },
  {
   "cell_type": "markdown",
   "metadata": {
    "colab_type": "text",
    "id": "WAFou8MpddZg"
   },
   "source": [
    "## Classificação de um novo texto"
   ]
  },
  {
   "cell_type": "code",
   "execution_count": null,
   "metadata": {
    "colab": {
     "base_uri": "https://localhost:8080/",
     "height": 34
    },
    "colab_type": "code",
    "executionInfo": {
     "elapsed": 697,
     "status": "ok",
     "timestamp": 1558630745468,
     "user": {
      "displayName": "Rafael Ferreira",
      "photoUrl": "",
      "userId": "15890286398156638247"
     },
     "user_tz": 0
    },
    "id": "4kpoPjOxT4fy",
    "outputId": "6a5d65e8-98b5-4383-8925-82eabe1bb598"
   },
   "outputs": [],
   "source": [
    "docs_new = ['OpenGL on the GPU is fast']\n",
    "\n",
    "vectorizer = TfidfVectorizer(use_idf=True)\n",
    "tfidf_model = vectorizer.fit(df_train['text'])\n",
    "\n",
    "X_new_tfidf  = tfidf_model.transform(docs_new)\n",
    "\n",
    "predicted = model.predict(X_new_tfidf)\n",
    "for doc, category in zip(docs_new, predicted):\n",
    "     print('%r => %s' % (doc, category))"
   ]
  },
  {
   "cell_type": "markdown",
   "metadata": {
    "colab_type": "text",
    "id": "Magth-kmodxt"
   },
   "source": [
    "# Bônus - TextBlob\n",
    "\n",
    "TextBlob: [documentação](https://textblob.readthedocs.io/en/dev/)\n",
    "\n",
    "## Requisitos: \n",
    "\n",
    "NLTK com ('punkt'), ('averaged_perceptron_tagger') e ('brown')\n"
   ]
  },
  {
   "cell_type": "code",
   "execution_count": null,
   "metadata": {
    "colab": {
     "base_uri": "https://localhost:8080/",
     "height": 170
    },
    "colab_type": "code",
    "executionInfo": {
     "elapsed": 706,
     "status": "ok",
     "timestamp": 1558630984644,
     "user": {
      "displayName": "Rafael Ferreira",
      "photoUrl": "",
      "userId": "15890286398156638247"
     },
     "user_tz": 0
    },
    "id": "X1uXu5xgpWR9",
    "outputId": "5dafd72b-3f88-467d-f8dd-d9d963e7b3f5"
   },
   "outputs": [],
   "source": [
    "from textblob import TextBlob\n",
    "import nltk\n",
    "nltk.download('punkt')\n",
    "nltk.download('averaged_perceptron_tagger')\n",
    "nltk.download('brown')"
   ]
  },
  {
   "cell_type": "code",
   "execution_count": null,
   "metadata": {
    "colab": {
     "base_uri": "https://localhost:8080/",
     "height": 187
    },
    "colab_type": "code",
    "executionInfo": {
     "elapsed": 737,
     "status": "ok",
     "timestamp": 1558631018062,
     "user": {
      "displayName": "Rafael Ferreira",
      "photoUrl": "",
      "userId": "15890286398156638247"
     },
     "user_tz": 0
    },
    "id": "4MJh_SU5o2DM",
    "outputId": "077fe97e-3e5d-450a-a1b6-212e7f7db6d2"
   },
   "outputs": [],
   "source": [
    "text = '''\n",
    "The titular threat of The Blob has always struck me as the ultimate movie\n",
    "monster: an insatiably hungry, amoeba-like mass able to penetrate\n",
    "virtually any safeguard, capable of--as a doomed doctor chillingly\n",
    "describes it--\"assimilating flesh on contact.\n",
    "Snide comparisons to gelatin be damned, it's a concept with the most\n",
    "devastating of potential consequences, not unlike the grey goo scenario\n",
    "proposed by technological theorists fearful of\n",
    "artificial intelligence run rampant.\n",
    "'''\n",
    "\n",
    "blob = TextBlob(text)\n",
    "      \n",
    "\n",
    "for sentence in blob.sentences:\n",
    "    print(sentence.sentiment.polarity)\n",
    "\n",
    "\n",
    "blob.translate(to=\"pt\")  "
   ]
  }
 ],
 "metadata": {
  "colab": {
   "name": "04_Classificação.ipynb",
   "provenance": [],
   "version": "0.3.2"
  },
  "kernelspec": {
   "display_name": "Python 3",
   "language": "python",
   "name": "python3"
  },
  "language_info": {
   "codemirror_mode": {
    "name": "ipython",
    "version": 3
   },
   "file_extension": ".py",
   "mimetype": "text/x-python",
   "name": "python",
   "nbconvert_exporter": "python",
   "pygments_lexer": "ipython3",
   "version": "3.7.1"
  }
 },
 "nbformat": 4,
 "nbformat_minor": 2
}
