{
 "cells": [
  {
   "cell_type": "markdown",
   "metadata": {
    "colab_type": "text",
    "id": "view-in-github"
   },
   "source": [
    "<a href=\"https://colab.research.google.com/github/ufrpe-bcc-ia/material-aulas/blob/master/aprendizagem_maquina/01_Pandas.ipynb\" target=\"_parent\"><img src=\"https://colab.research.google.com/assets/colab-badge.svg\" alt=\"Open In Colab\"/></a>"
   ]
  },
  {
   "cell_type": "markdown",
   "metadata": {
    "colab_type": "text",
    "id": "YzgSucL8lMdP"
   },
   "source": [
    "# Pandas\n",
    "\n",
    "O pacote pandas é uma das ferramentas mais importantes para iniciar o estudo e aplicação de aprendizagem de máquina com Python. \n",
    "\n",
    "## O que é o Pandas?\n",
    "O pandas é essencialmente a casa dos seus dados. Através dos pandas, você se familiariza com seus dados lendo, limpando, transformando e analisando.\n",
    "\n",
    "Por exemplo, digamos que você queira explorar um conjunto de dados armazenado em um CSV no seu computador. O pandas automatiza o processo de leitura e extração de dados desse CSV para um DataFrame - basicamente, uma tabela - e permite que você faça coisas como:\n",
    "\n",
    "- Calcule estatísticas e responda a perguntas sobre os dados, como\n",
    "- Qual é a média, mediana, máximo ou mínimo de cada coluna?\n",
    "- A coluna A está correlacionada com a coluna B?\n",
    "- Como é a distribuição de dados na coluna C?\n",
    "- Limpe os dados fazendo coisas como remover valores ausentes e filtrar linhas ou colunas por alguns critérios\n",
    "- Visualize os dados com a ajuda do Matplotlib. Plotar barras, linhas, histogramas, bolhas e muito mais.\n",
    "- Armazene os dados limpos e transformados de volta em um arquivo CSV, outro ou banco de dados\n",
    "\n",
    "Antes de entrar na modelagem ou nas visualizações complexas, você precisa ter uma boa compreensão da natureza do seu conjunto de dados e o pandas é atualmente a melhor ferramenta gratuita para isso."
   ]
  },
  {
   "cell_type": "markdown",
   "metadata": {
    "colab_type": "text",
    "id": "hMR6SaoNntxv"
   },
   "source": [
    "## Lendo / Baixando um csv\n",
    "A função `read_csv` permite a leitura de arquivos locais e de arquivos remotos (urls).\n"
   ]
  },
  {
   "cell_type": "code",
   "execution_count": null,
   "metadata": {
    "colab": {},
    "colab_type": "code",
    "id": "BaeL2iz4ntI7"
   },
   "outputs": [],
   "source": [
    "import pandas as pd\n",
    "\n",
    "url=\"https://raw.githubusercontent.com/ufrpe-bcc-ia/material-aulas/master/data/tennis.csv\"\n",
    "df=pd.read_csv(url, sep=',')"
   ]
  },
  {
   "cell_type": "markdown",
   "metadata": {
    "colab_type": "text",
    "id": "rGdshnUMp78h"
   },
   "source": [
    "## Imprimindo na tela o Dataframe"
   ]
  },
  {
   "cell_type": "code",
   "execution_count": null,
   "metadata": {
    "colab": {
     "base_uri": "https://localhost:8080/",
     "height": 272
    },
    "colab_type": "code",
    "id": "VkrN7z_pqAGn",
    "outputId": "73b26629-267e-4294-8e26-c041861ce850"
   },
   "outputs": [],
   "source": [
    "print(df)"
   ]
  },
  {
   "cell_type": "markdown",
   "metadata": {
    "colab_type": "text",
    "id": "apFkkNPdwaGB"
   },
   "source": [
    "Como estamos utilizando o Jupyter, podemos usar o `display`:"
   ]
  },
  {
   "cell_type": "code",
   "execution_count": null,
   "metadata": {
    "colab": {
     "base_uri": "https://localhost:8080/",
     "height": 483
    },
    "colab_type": "code",
    "id": "rdVHuFipqCdw",
    "outputId": "4e7b0789-23e5-46e7-c01b-788442a28401"
   },
   "outputs": [],
   "source": [
    "display(df)"
   ]
  },
  {
   "cell_type": "markdown",
   "metadata": {
    "colab_type": "text",
    "id": "wEsKPFHep8Jn"
   },
   "source": [
    "ou simplesmente acessar a variável contendo o dataframe:"
   ]
  },
  {
   "cell_type": "code",
   "execution_count": null,
   "metadata": {
    "colab": {
     "base_uri": "https://localhost:8080/",
     "height": 483
    },
    "colab_type": "code",
    "id": "fzsAGpacnjQp",
    "outputId": "2b6a4598-419d-4343-f152-8003308914b1"
   },
   "outputs": [],
   "source": [
    "df"
   ]
  },
  {
   "cell_type": "markdown",
   "metadata": {
    "colab_type": "text",
    "id": "beXj4KrL7lK9"
   },
   "source": [
    "## Acessando uma coluna específica"
   ]
  },
  {
   "cell_type": "code",
   "execution_count": null,
   "metadata": {
    "colab": {
     "base_uri": "https://localhost:8080/",
     "height": 272
    },
    "colab_type": "code",
    "id": "9fLBI-wjyHWX",
    "outputId": "334fda07-0b67-4da7-a6b1-76c2eac3af97"
   },
   "outputs": [],
   "source": [
    "df['temp']\n"
   ]
  },
  {
   "cell_type": "markdown",
   "metadata": {
    "colab_type": "text",
    "id": "AmmQmhbv8vd2"
   },
   "source": [
    "## Acessando uma (ou mais) linhas\n",
    "## Pelo índice"
   ]
  },
  {
   "cell_type": "code",
   "execution_count": null,
   "metadata": {
    "colab": {
     "base_uri": "https://localhost:8080/",
     "height": 119
    },
    "colab_type": "code",
    "id": "wLfGDTUj8zQL",
    "outputId": "6e7cfe16-84f8-49f1-a459-8a5e61b2811a"
   },
   "outputs": [],
   "source": [
    "df.loc[1]"
   ]
  },
  {
   "cell_type": "markdown",
   "metadata": {
    "colab_type": "text",
    "id": "L-64dBDL9C5A"
   },
   "source": [
    "### Por uma condição"
   ]
  },
  {
   "cell_type": "code",
   "execution_count": null,
   "metadata": {
    "colab": {
     "base_uri": "https://localhost:8080/",
     "height": 204
    },
    "colab_type": "code",
    "id": "jb8FFmNt9Ftl",
    "outputId": "3d8caadf-0e78-467d-a13b-515b5f1def8b"
   },
   "outputs": [],
   "source": [
    "df.loc[df['outlook'] == 'sunny' ]"
   ]
  },
  {
   "cell_type": "markdown",
   "metadata": {
    "colab_type": "text",
    "id": "10uq6VuN7w7d"
   },
   "source": [
    "## Descrição geral do dataframe"
   ]
  },
  {
   "cell_type": "code",
   "execution_count": null,
   "metadata": {
    "colab": {
     "base_uri": "https://localhost:8080/",
     "height": 173
    },
    "colab_type": "code",
    "id": "5ggSJ4dh7pjl",
    "outputId": "3b83a7a9-d793-4a33-ef0f-e5aebb36994e"
   },
   "outputs": [],
   "source": [
    "df.describe()\n"
   ]
  },
  {
   "cell_type": "markdown",
   "metadata": {
    "colab_type": "text",
    "id": "RGdRjfqK71HH"
   },
   "source": [
    "## Head"
   ]
  },
  {
   "cell_type": "code",
   "execution_count": null,
   "metadata": {
    "colab": {
     "base_uri": "https://localhost:8080/",
     "height": 204
    },
    "colab_type": "code",
    "id": "SoFfMy9f7smM",
    "outputId": "c19a143f-57ef-4b85-c37d-a1b7647f4446"
   },
   "outputs": [],
   "source": [
    "df.head()"
   ]
  },
  {
   "cell_type": "markdown",
   "metadata": {
    "colab_type": "text",
    "id": "R_-RBEnm8SBb"
   },
   "source": [
    "## Plotando gráficos"
   ]
  },
  {
   "cell_type": "code",
   "execution_count": null,
   "metadata": {
    "colab": {
     "base_uri": "https://localhost:8080/",
     "height": 298
    },
    "colab_type": "code",
    "id": "E7OmnRes75xs",
    "outputId": "08342b44-78cd-4088-bd3f-e51d33ff9597"
   },
   "outputs": [],
   "source": [
    "df['temp'].value_counts().plot(kind='bar')"
   ]
  },
  {
   "cell_type": "markdown",
   "metadata": {
    "colab_type": "text",
    "id": "U_3KZT_q8fnP"
   },
   "source": [
    "## Funções de agregação\n",
    "### Group By"
   ]
  },
  {
   "cell_type": "code",
   "execution_count": null,
   "metadata": {
    "colab": {
     "base_uri": "https://localhost:8080/",
     "height": 328
    },
    "colab_type": "code",
    "id": "7N-Pm0j-7_w0",
    "outputId": "ef8f3199-7bd5-4ccb-9095-ec5831dd3408"
   },
   "outputs": [],
   "source": [
    "df.groupby(['outlook','temp']).count()"
   ]
  },
  {
   "cell_type": "code",
   "execution_count": null,
   "metadata": {
    "colab": {},
    "colab_type": "code",
    "id": "lVWLBBI98c0z"
   },
   "outputs": [],
   "source": []
  }
 ],
 "metadata": {
  "colab": {
   "include_colab_link": true,
   "name": "01_Pandas.ipynb",
   "provenance": [],
   "version": "0.3.2"
  },
  "kernelspec": {
   "display_name": "Python 3",
   "language": "python",
   "name": "python3"
  },
  "language_info": {
   "codemirror_mode": {
    "name": "ipython",
    "version": 3
   },
   "file_extension": ".py",
   "mimetype": "text/x-python",
   "name": "python",
   "nbconvert_exporter": "python",
   "pygments_lexer": "ipython3",
   "version": "3.7.1"
  }
 },
 "nbformat": 4,
 "nbformat_minor": 2
}
