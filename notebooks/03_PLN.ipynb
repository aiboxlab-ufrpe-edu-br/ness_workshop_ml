{
 "cells": [
  {
   "cell_type": "markdown",
   "metadata": {
    "colab_type": "text",
    "id": "4dobuOjTk2ux"
   },
   "source": [
    "# **Introdução à PLN**\n",
    "\n",
    "## Recursos:\n",
    "\n",
    "Software:\n",
    "\n",
    "\n",
    "*  Spacy: [documentação](https://spacy.io/usage)\n",
    "*   Spacy em português: [documentação](https://spacy.io/models/pt)\n",
    "\n",
    "Dados\n",
    "\n",
    "Neste exemplo, utilizaremos frases inseridas diretamente no notebook."
   ]
  },
  {
   "cell_type": "code",
   "execution_count": null,
   "metadata": {
    "colab": {},
    "colab_type": "code",
    "id": "WIkTqqlmksof"
   },
   "outputs": [],
   "source": [
    "import spacy\n",
    "import os\n",
    "os.system(\"python -m spacy download pt\")\n",
    "nlp = spacy.load('pt')"
   ]
  },
  {
   "cell_type": "markdown",
   "metadata": {
    "colab_type": "text",
    "id": "y213sqo8k8ji"
   },
   "source": [
    "**Processamento do documento**\n",
    "\n",
    "A primeira etapa para utilização do spacy é criar um documento processado."
   ]
  },
  {
   "cell_type": "code",
   "execution_count": null,
   "metadata": {
    "colab": {},
    "colab_type": "code",
    "id": "Q_r4NoOTk85p"
   },
   "outputs": [],
   "source": [
    "doc = nlp(\"João estará em São Paulo na próxima semana visitando a NESS. Eu devo levar roupa para frio?\")"
   ]
  },
  {
   "cell_type": "markdown",
   "metadata": {
    "colab_type": "text",
    "id": "7Nc1b7AIqG1K"
   },
   "source": [
    "**Atributos**\n",
    "\n",
    "Internamente o documento é tratado como uma lista de tokens que possuem diversos atributos, como mostrado abaixo."
   ]
  },
  {
   "cell_type": "code",
   "execution_count": null,
   "metadata": {
    "colab": {
     "base_uri": "https://localhost:8080/",
     "height": 340
    },
    "colab_type": "code",
    "executionInfo": {
     "elapsed": 13680,
     "status": "ok",
     "timestamp": 1558627126745,
     "user": {
      "displayName": "Rafael Ferreira",
      "photoUrl": "",
      "userId": "15890286398156638247"
     },
     "user_tz": 0
    },
    "id": "y-WMq9CGlQi6",
    "outputId": "d15e4238-f555-4992-9d3c-60af509b3c37"
   },
   "outputs": [],
   "source": [
    "for token in doc:\n",
    "    print(\"{0}\\t{1}\\t{2}\\t{3}\\t{4}\\t{5}\".format(\n",
    "        token.text,\n",
    "        token.idx,\n",
    "        token.lemma_,\n",
    "        token.is_stop,\n",
    "        token.is_punct,\n",
    "        token.pos_\n",
    "    ))"
   ]
  },
  {
   "cell_type": "markdown",
   "metadata": {
    "colab_type": "text",
    "id": "eljpmpEFYoGr"
   },
   "source": [
    "# Pré-processamento"
   ]
  },
  {
   "cell_type": "markdown",
   "metadata": {
    "colab_type": "text",
    "id": "Rudt7taymQ_w"
   },
   "source": [
    "**Separação em sentenças**\n",
    "\n",
    "Divide o documento numa lista de sentenças, não leva em consideração apenas a pontuação."
   ]
  },
  {
   "cell_type": "code",
   "execution_count": null,
   "metadata": {
    "colab": {
     "base_uri": "https://localhost:8080/",
     "height": 51
    },
    "colab_type": "code",
    "executionInfo": {
     "elapsed": 13666,
     "status": "ok",
     "timestamp": 1558627126746,
     "user": {
      "displayName": "Rafael Ferreira",
      "photoUrl": "",
      "userId": "15890286398156638247"
     },
     "user_tz": 0
    },
    "id": "IzOaSWq8mRO4",
    "outputId": "8ba165a5-e71e-40bf-d042-d5a9b5ea1835"
   },
   "outputs": [],
   "source": [
    "for sent in doc.sents:\n",
    "    print(sent)"
   ]
  },
  {
   "cell_type": "markdown",
   "metadata": {
    "colab_type": "text",
    "id": "FIUMB_QPnaEm"
   },
   "source": [
    "**Normalização**\n",
    "\n",
    "Passa todos os caracteres para o minúsculo."
   ]
  },
  {
   "cell_type": "code",
   "execution_count": null,
   "metadata": {
    "colab": {
     "base_uri": "https://localhost:8080/",
     "height": 180
    },
    "colab_type": "code",
    "executionInfo": {
     "elapsed": 13684,
     "status": "error",
     "timestamp": 1558627126775,
     "user": {
      "displayName": "Rafael Ferreira",
      "photoUrl": "",
      "userId": "15890286398156638247"
     },
     "user_tz": 0
    },
    "id": "yBLqFDr1nmr2",
    "outputId": "bae7c457-208c-4dad-bbed-8112f44ea2f5"
   },
   "outputs": [],
   "source": [
    "normal = [token.text.lower() for token in doc]\n",
    "print(old)"
   ]
  },
  {
   "cell_type": "markdown",
   "metadata": {
    "colab_type": "text",
    "id": "Wwz4xi-Fnm8O"
   },
   "source": [
    "**Remoção de stopwords**\n",
    "\n",
    "Remove palavras com pouco significado para o texto. No caso do spacy é levado em consideração tanto a classe gramatical quanto uma lista pré-definida de palavras. "
   ]
  },
  {
   "cell_type": "code",
   "execution_count": null,
   "metadata": {
    "colab": {},
    "colab_type": "code",
    "id": "5HFNOOW1noml"
   },
   "outputs": [],
   "source": [
    "sem_stopwords = [token.text.lower() for token in doc if not(token.is_stop or token.is_punct)]\n",
    "print(sem_stopwords)"
   ]
  },
  {
   "cell_type": "markdown",
   "metadata": {
    "colab_type": "text",
    "id": "IH9A1Szqn9u-"
   },
   "source": [
    "**Lemmatization**\n",
    "\n",
    "Recupera a forma primitiva de cada palavra. Por exemplo, muda verbo para o infinitivo e palavras no plural para o singular."
   ]
  },
  {
   "cell_type": "code",
   "execution_count": null,
   "metadata": {
    "colab": {},
    "colab_type": "code",
    "id": "dSk7rrXioBD-"
   },
   "outputs": [],
   "source": [
    "lemmas = [token.lemma_.lower() for token in nlp(\" \".join(new))]\n",
    "print(lemmas)"
   ]
  },
  {
   "cell_type": "markdown",
   "metadata": {
    "colab_type": "text",
    "id": "NKNHEZ9SoHSu"
   },
   "source": [
    "**POS Tagging**\n",
    "\n",
    "Extrai as classes gramaticais das palavras."
   ]
  },
  {
   "cell_type": "code",
   "execution_count": null,
   "metadata": {
    "colab": {},
    "colab_type": "code",
    "id": "JSm7QkV8oHsV"
   },
   "outputs": [],
   "source": [
    "for token in doc:\n",
    "    print(token.text,token.pos_)"
   ]
  },
  {
   "cell_type": "markdown",
   "metadata": {
    "colab_type": "text",
    "id": "G0f_FCTmoMzd"
   },
   "source": [
    "**NER**\n",
    "\n",
    "Extrai entidades do texto - será mais explicado num notebook a parte."
   ]
  },
  {
   "cell_type": "code",
   "execution_count": null,
   "metadata": {
    "colab": {},
    "colab_type": "code",
    "id": "jHT7xyEnoN9c"
   },
   "outputs": [],
   "source": [
    "for ent in doc.ents:\n",
    "    print(ent.text,ent.label_)"
   ]
  },
  {
   "cell_type": "markdown",
   "metadata": {
    "colab_type": "text",
    "id": "Z6gFuehAogMt"
   },
   "source": [
    "**Visualização**"
   ]
  },
  {
   "cell_type": "code",
   "execution_count": null,
   "metadata": {
    "colab": {},
    "colab_type": "code",
    "id": "Fii8H8tjolGl"
   },
   "outputs": [],
   "source": [
    "from spacy import displacy"
   ]
  },
  {
   "cell_type": "code",
   "execution_count": null,
   "metadata": {
    "colab": {},
    "colab_type": "code",
    "id": "-VpLBE1Dogl8"
   },
   "outputs": [],
   "source": [
    "displacy.render(doc, style='ent',jupyter=True)"
   ]
  }
 ],
 "metadata": {
  "colab": {
   "name": "03_PLN.ipynb",
   "provenance": [],
   "version": "0.3.2"
  },
  "kernelspec": {
   "display_name": "Python 3",
   "language": "python",
   "name": "python3"
  },
  "language_info": {
   "codemirror_mode": {
    "name": "ipython",
    "version": 3
   },
   "file_extension": ".py",
   "mimetype": "text/x-python",
   "name": "python",
   "nbconvert_exporter": "python",
   "pygments_lexer": "ipython3",
   "version": "3.7.1"
  }
 },
 "nbformat": 4,
 "nbformat_minor": 2
}
