{
 "cells": [
  {
   "cell_type": "markdown",
   "metadata": {
    "colab_type": "text",
    "id": "Do8ka53qUP5n"
   },
   "source": [
    "# Introdução a Aprendizagem de Máquina com Python\n",
    "\n",
    "## Outros recursos:\n",
    "### Software:\n",
    "- Scikit-Learn: [documentação](http://scikit-learn.org/stable/documentation.html)\n",
    "- Outras bibliotecas: [numpy]{https://www.numpy.org/}, [statsmodel](http://www.statsmodels.org/stable/index.html), [NLTK]{https://www.nltk.org/}, [TensorFlow]{https://www.tensorflow.org/}\n",
    "\n",
    "### Datasets:\n",
    "- [UCI Machine Learning Repository]{https://archive.ics.uci.edu/ml/index.php}\n",
    "- [Kaggle]{http://kaggle.com/}\n",
    "\n",
    "# Dados\n",
    "Neste primeiro exemplo, utilizaremos o dataset *wine*. Ele consiste em uma análise química de vinhos da região de uma mesma região da Itália, e o objetivo nesse caso é identificar qual é o produtor de cada um dos vinhos."
   ]
  },
  {
   "cell_type": "code",
   "execution_count": null,
   "metadata": {
    "colab": {},
    "colab_type": "code",
    "id": "OQETBbGKUP5p"
   },
   "outputs": [],
   "source": [
    "from sklearn import datasets\n",
    "wine = datasets.load_wine()"
   ]
  },
  {
   "cell_type": "markdown",
   "metadata": {
    "colab_type": "text",
    "id": "jqbaqrPMUP5t"
   },
   "source": [
    "## Visualizar descrição"
   ]
  },
  {
   "cell_type": "code",
   "execution_count": null,
   "metadata": {
    "colab": {},
    "colab_type": "code",
    "id": "X-3e33IxUP5u"
   },
   "outputs": [],
   "source": [
    "print(wine.DESCR)"
   ]
  },
  {
   "cell_type": "code",
   "execution_count": null,
   "metadata": {
    "colab": {},
    "colab_type": "code",
    "id": "rsvImUFPUP50"
   },
   "outputs": [],
   "source": [
    "print(wine.feature_names)"
   ]
  },
  {
   "cell_type": "code",
   "execution_count": null,
   "metadata": {
    "colab": {},
    "colab_type": "code",
    "id": "D-_igrz1UP54"
   },
   "outputs": [],
   "source": [
    "print(wine.data[0:3])"
   ]
  },
  {
   "cell_type": "code",
   "execution_count": null,
   "metadata": {
    "colab": {},
    "colab_type": "code",
    "id": "SCs5XnstUP58"
   },
   "outputs": [],
   "source": [
    "print(wine.target[0:3])"
   ]
  },
  {
   "cell_type": "code",
   "execution_count": null,
   "metadata": {
    "colab": {},
    "colab_type": "code",
    "id": "rBQK10xLUP6A"
   },
   "outputs": [],
   "source": [
    "print(wine.target_names[0:3])"
   ]
  },
  {
   "cell_type": "markdown",
   "metadata": {
    "colab_type": "text",
    "id": "Bw5Xcee7UP6E"
   },
   "source": [
    "## Converter para pandas"
   ]
  },
  {
   "cell_type": "code",
   "execution_count": null,
   "metadata": {
    "colab": {},
    "colab_type": "code",
    "id": "M2HINh0CUP6F"
   },
   "outputs": [],
   "source": [
    "import pandas as pd\n",
    "import numpy as np\n",
    "\n",
    "df = pd.DataFrame(data   = np.c_[wine.data, wine.target],\n",
    "                  columns= list(wine.feature_names) + ['target'])\n",
    "\n",
    "features = wine.feature_names\n",
    "print(features)\n",
    "\n",
    "df.head()"
   ]
  },
  {
   "cell_type": "markdown",
   "metadata": {
    "colab_type": "text",
    "id": "QKyVo2GVUP6K"
   },
   "source": [
    "## Análise exploratória"
   ]
  },
  {
   "cell_type": "code",
   "execution_count": null,
   "metadata": {
    "colab": {},
    "colab_type": "code",
    "id": "LZgXzKIAUP6L"
   },
   "outputs": [],
   "source": [
    "df.describe()"
   ]
  },
  {
   "cell_type": "code",
   "execution_count": null,
   "metadata": {
    "colab": {},
    "colab_type": "code",
    "id": "AE1WNs6vUP6P"
   },
   "outputs": [],
   "source": [
    "%matplotlib inline\n",
    "\n",
    "fig = df.loc[:,features].hist(bins=50, figsize=(15, 15))"
   ]
  },
  {
   "cell_type": "code",
   "execution_count": null,
   "metadata": {
    "colab": {},
    "colab_type": "code",
    "id": "Cy88jWmeUP6T"
   },
   "outputs": [],
   "source": [
    "from pandas.plotting import scatter_matrix\n",
    "fig = scatter_matrix(df.loc[:,features], alpha=0.2, figsize=(15, 15), diagonal='kde')"
   ]
  },
  {
   "cell_type": "markdown",
   "metadata": {
    "colab_type": "text",
    "id": "V9Wd0LrsUP6X"
   },
   "source": [
    "# Separar conjuntos de treinamento e teste"
   ]
  },
  {
   "cell_type": "code",
   "execution_count": null,
   "metadata": {
    "colab": {},
    "colab_type": "code",
    "id": "UncK1lI-UP6Y"
   },
   "outputs": [],
   "source": [
    "from sklearn.model_selection import train_test_split\n",
    "\n",
    "df_train, df_test = train_test_split(df, test_size=0.3)\n",
    "print('Número de exemplos de treinamento:', len(df_train))\n",
    "print('Número de exemplos de teste:', len(df_test))"
   ]
  },
  {
   "cell_type": "markdown",
   "metadata": {
    "colab_type": "text",
    "id": "tX6Mvn5IUP6c"
   },
   "source": [
    "## Conferir distribuições das classes "
   ]
  },
  {
   "cell_type": "code",
   "execution_count": null,
   "metadata": {
    "colab": {},
    "colab_type": "code",
    "id": "xyvdrD3jUP6d"
   },
   "outputs": [],
   "source": [
    "df_train.target.value_counts()"
   ]
  },
  {
   "cell_type": "code",
   "execution_count": null,
   "metadata": {
    "colab": {},
    "colab_type": "code",
    "id": "G3DSWDAvUP6j"
   },
   "outputs": [],
   "source": [
    "df_test.target.value_counts()"
   ]
  },
  {
   "cell_type": "markdown",
   "metadata": {
    "colab_type": "text",
    "id": "OGIBZD_LUP6o"
   },
   "source": [
    "## Algoritmo: kNN\n"
   ]
  },
  {
   "cell_type": "code",
   "execution_count": null,
   "metadata": {
    "colab": {},
    "colab_type": "code",
    "id": "cLsNgeNQUP6o"
   },
   "outputs": [],
   "source": [
    "from sklearn.neighbors import KNeighborsClassifier\n",
    "\n",
    "model = KNeighborsClassifier(n_neighbors=3)\n",
    "model.fit(df_train.loc[:,features], df_train['target'])"
   ]
  },
  {
   "cell_type": "code",
   "execution_count": null,
   "metadata": {
    "colab": {},
    "colab_type": "code",
    "id": "GOaQfFK6UP6s"
   },
   "outputs": [],
   "source": [
    "from sklearn.metrics import accuracy_score\n",
    "\n",
    "predicoes = model.predict(df_test.loc[:,features])\n",
    "print('Taxa de acerto: ', accuracy_score(df_test['target'], predicoes))"
   ]
  },
  {
   "cell_type": "markdown",
   "metadata": {
    "colab_type": "text",
    "id": "S0YDtfIhUP6y"
   },
   "source": [
    "## Variando k"
   ]
  },
  {
   "cell_type": "code",
   "execution_count": null,
   "metadata": {
    "colab": {},
    "colab_type": "code",
    "id": "j8yL7RAeUP6z"
   },
   "outputs": [],
   "source": [
    "kvals = [1, 3, 5, 10, 15, 20]\n",
    "accs = []\n",
    "\n",
    "for k in kvals:\n",
    "    model = KNeighborsClassifier(n_neighbors=k)\n",
    "    model.fit(df_train.loc[:,features], df_train['target'])\n",
    "    predicoes = model.predict(df_test.loc[:,features])\n",
    "    acc = accuracy_score(df_test['target'], predicoes)\n",
    "    accs.append(acc)\n",
    "    print('k={} - Taxa de acerto: {}'.format(k,acc))"
   ]
  },
  {
   "cell_type": "code",
   "execution_count": null,
   "metadata": {
    "colab": {},
    "colab_type": "code",
    "id": "HXJMaLAKUP67"
   },
   "outputs": [],
   "source": [
    "from matplotlib import pyplot as plt\n",
    "plt.plot(kvals, accs)"
   ]
  },
  {
   "cell_type": "code",
   "execution_count": null,
   "metadata": {
    "colab": {},
    "colab_type": "code",
    "id": "P7O9ywTxUP6_"
   },
   "outputs": [],
   "source": [
    "# ajustando a escala\n",
    "plt.plot(kvals, accs)\n",
    "plt.ylim([0,1])"
   ]
  },
  {
   "cell_type": "markdown",
   "metadata": {
    "colab_type": "text",
    "id": "We6FM9UMUP7D"
   },
   "source": [
    "## Outros algoritmos?\n",
    "## Árvore de Decisão\n",
    "Árvore de Decisão é um algoritmo do tipo \"caixa branca\", diferentemente de métodos como Redes Neurais (\"caixa preta\"). Ele compartilha a lógica interna de tomada de decisão, e fornece meios para \"explicar\" as suas decisões.\n",
    "\n",
    "![alt text](https://res.cloudinary.com/dyd911kmh/image/upload/f_auto,q_auto:best/v1545934190/1_r5ikdb.png)\n",
    "\n",
    "É bastante rápido, tanto na fase de treinamento quanto de classificação, sendo bastante robusto para dados de alta dimensionalidade com atributos categóricos ou numéricos. Além disso, árvores de decisão compõem a base para construção de algoritmos do tipo \"ensemble\" (que combinam diversos classificadores) como o Random Forests e o XGBoost."
   ]
  },
  {
   "cell_type": "code",
   "execution_count": null,
   "metadata": {
    "colab": {},
    "colab_type": "code",
    "id": "tX6cBKS-UP7D"
   },
   "outputs": [],
   "source": [
    "from sklearn.tree import DecisionTreeClassifier\n",
    "\n",
    "model = DecisionTreeClassifier()\n",
    "model.fit(df_train.loc[:,features], df_train['target'])\n",
    "\n",
    "predicoes = model.predict(df_test.loc[:,features])\n",
    "acc = accuracy_score(df_test['target'], predicoes)\n",
    "print(model)\n",
    "print('Taxa de acerto: ', accuracy_score(df_test['target'], predicoes))"
   ]
  },
  {
   "cell_type": "markdown",
   "metadata": {
    "colab_type": "text",
    "id": "uCXx4wUWUP7H"
   },
   "source": [
    "## Random Forests\n",
    "Random forest é um classificador da categoria *ensemble*, ou seja, ele é composto por diversos outros classificadores (mais simples), no caso, árvores de decisão.\n",
    "Uma árvore é construída para diversas sub-amostras do conjunto de dados, e uma média é utilizada para realizar as predições. Isto aumenta a acurácia e reduz a sensibilidade a desbalanceamento de classes, ruídos e overfitting."
   ]
  },
  {
   "cell_type": "code",
   "execution_count": null,
   "metadata": {
    "colab": {},
    "colab_type": "code",
    "id": "SjY46zALUP7H"
   },
   "outputs": [],
   "source": [
    "from sklearn.ensemble import RandomForestClassifier\n",
    "\n",
    "model = RandomForestClassifier(n_estimators=100)\n",
    "model.fit(df_train.loc[:,features], df_train['target'])\n",
    "\n",
    "predicoes = model.predict(df_test.loc[:,features])\n",
    "acc = accuracy_score(df_test['target'], predicoes)\n",
    "print(model)\n",
    "print('Taxa de acerto: ', accuracy_score(df_test['target'], predicoes))"
   ]
  },
  {
   "cell_type": "code",
   "execution_count": null,
   "metadata": {
    "colab": {},
    "colab_type": "code",
    "id": "bStAJMZRUP7L"
   },
   "outputs": [],
   "source": []
  }
 ],
 "metadata": {
  "colab": {
   "collapsed_sections": [],
   "name": "02_Intro-AM-Scikit.ipynb",
   "provenance": [],
   "version": "0.3.2"
  },
  "kernelspec": {
   "display_name": "Python 3",
   "language": "python",
   "name": "python3"
  },
  "language_info": {
   "codemirror_mode": {
    "name": "ipython",
    "version": 3
   },
   "file_extension": ".py",
   "mimetype": "text/x-python",
   "name": "python",
   "nbconvert_exporter": "python",
   "pygments_lexer": "ipython3",
   "version": "3.7.1"
  }
 },
 "nbformat": 4,
 "nbformat_minor": 2
}
